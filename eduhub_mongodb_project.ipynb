{
 "cells": [
  {
   "cell_type": "markdown",
   "id": "e82eb0b9",
   "metadata": {},
   "source": [
    "# EduHub E-Learning Platform  \n",
    "\n",
    "## Part 1: Database Setup & Data Modeling\n",
    "\n",
    "\n",
    "This portfolio submission showcases the first step in building EduHub’s backend: designing and provisioning the MongoDB schema that will power user management, course content and learning analytics.\n",
    "\n",
    "**Objectives**  \n",
    "\n",
    "- **Connect** to our MongoDB instance (`eduhub_db`) via `pymongo`.  \n",
    "- **Enforce** strict JSON Schema validation on six collections:\n",
    "  - `users` – tracks students and instructors  \n",
    "  - `courses` – course metadata, including `rating` and `ratingsCount` for later analytics  \n",
    "  - `enrollments` – which students are in which courses  \n",
    "  - `lessons` – individual lesson content and ordering  \n",
    "  - `assignments` – tasks with due dates  \n",
    "  - `submissions` – student work, grades and feedback  \n",
    "- **Generate** one representative sample document per collection.  \n",
    "- **Display** each sample as a clean, interactive table using pandas in Jupyter.\n",
    "\n",
    "**Implementation Highlights**  \n",
    "1. **Database Connection**  \n",
    "   Established via `get_client()`, verifying connectivity with a server info check.  \n",
    "2. **Schema Validation**  \n",
    "   Used `\"validationLevel\": \"strict\"` and `\"validationAction\": \"error\"` to guarantee that only valid documents can be inserted.  \n",
    "3. **Sample Data**  \n",
    "   Created example documents (including `rating` fields on courses) and wrapped them in pandas DataFrames.  \n",
    "4. **Visualization**  \n",
    "   Leveraged pandas’ HTML rendering for polished tables directly in the notebook.\n"
   ]
  },
  {
   "cell_type": "code",
   "execution_count": 1,
   "id": "925b4964",
   "metadata": {},
   "outputs": [
    {
     "name": "stdout",
     "output_type": "stream",
     "text": [
      "[OK] Collections created with JSON Schema validation.\n"
     ]
    },
    {
     "data": {
      "text/markdown": [
       "### Users Sample\n",
       "| userId   | email             | firstName   | lastName   | role    | dateJoined                 | profile                                                                   | isActive   |\n",
       "|:---------|:------------------|:------------|:-----------|:--------|:---------------------------|:--------------------------------------------------------------------------|:-----------|\n",
       "| u1001    | alice@example.com | Alice       | Anderson   | student | 2025-06-17 04:06:33.496372 | {'bio': 'Data enthusiast', 'avatar': '', 'skills': ['Python', 'MongoDB']} | True       |"
      ],
      "text/plain": [
       "<IPython.core.display.Markdown object>"
      ]
     },
     "metadata": {},
     "output_type": "display_data"
    },
    {
     "data": {
      "text/markdown": [
       "### Courses Sample\n",
       "| courseId   | title                     | description                                     | instructorId   | category         | level    |   duration |   price | tags               |   rating |   ratingsCount | createdAt                  | updatedAt                  | isPublished   |\n",
       "|:-----------|:--------------------------|:------------------------------------------------|:---------------|:-----------------|:---------|-----------:|--------:|:-------------------|---------:|---------------:|:---------------------------|:---------------------------|:--------------|\n",
       "| c2001      | Intro to Data Engineering | Learn the basics of MongoDB and data pipelines. | u2001          | Data Engineering | beginner |        8.5 |   99.99 | ['MongoDB', 'ETL'] |        0 |              0 | 2025-06-17 04:06:33.496372 | 2025-06-17 04:06:33.496372 | False         |"
      ],
      "text/plain": [
       "<IPython.core.display.Markdown object>"
      ]
     },
     "metadata": {},
     "output_type": "display_data"
    },
    {
     "data": {
      "text/markdown": [
       "### Enrollments Sample\n",
       "| enrollmentId   | userId   | courseId   | enrolledAt                 |   progress | completionStatus   |\n",
       "|:---------------|:---------|:-----------|:---------------------------|-----------:|:-------------------|\n",
       "| e3001          | u1001    | c2001      | 2025-06-17 04:06:33.496372 |          0 | in progress        |"
      ],
      "text/plain": [
       "<IPython.core.display.Markdown object>"
      ]
     },
     "metadata": {},
     "output_type": "display_data"
    },
    {
     "data": {
      "text/markdown": [
       "### Lessons Sample\n",
       "| lessonId   | courseId   | title                        | content                          |   order | createdAt                  | updatedAt                  |\n",
       "|:-----------|:-----------|:-----------------------------|:---------------------------------|--------:|:---------------------------|:---------------------------|\n",
       "| l4001      | c2001      | Getting Started with MongoDB | Installation and first CRUD ops. |       1 | 2025-06-17 04:06:33.496372 | 2025-06-17 04:06:33.496372 |"
      ],
      "text/plain": [
       "<IPython.core.display.Markdown object>"
      ]
     },
     "metadata": {},
     "output_type": "display_data"
    },
    {
     "data": {
      "text/markdown": [
       "### Assignments Sample\n",
       "| assignmentId   | courseId   | title               | description                     | dueDate                    | createdAt                  | updatedAt                  |\n",
       "|:---------------|:-----------|:--------------------|:--------------------------------|:---------------------------|:---------------------------|:---------------------------|\n",
       "| a5001          | c2001      | Setup Your Database | Install and connect to MongoDB. | 2025-06-24 04:06:33.496372 | 2025-06-17 04:06:33.496372 | 2025-06-17 04:06:33.496372 |"
      ],
      "text/plain": [
       "<IPython.core.display.Markdown object>"
      ]
     },
     "metadata": {},
     "output_type": "display_data"
    },
    {
     "data": {
      "text/markdown": [
       "### Submissions Sample\n",
       "| submissionId   | assignmentId   | userId   | submittedAt                |   grade | feedback   |\n",
       "|:---------------|:---------------|:---------|:---------------------------|--------:|:-----------|\n",
       "| s6001          | a5001          | u1001    | 2025-06-18 04:06:33.496372 |       0 |            |"
      ],
      "text/plain": [
       "<IPython.core.display.Markdown object>"
      ]
     },
     "metadata": {},
     "output_type": "display_data"
    }
   ],
   "source": [
    "from IPython.display import display, Markdown\n",
    "import part1_setup as part1_setup\n",
    "\n",
    "# Provision & fetch\n",
    "client = part1_setup.get_client()\n",
    "part1_setup.setup_database(client)\n",
    "samples = part1_setup.get_sample_docs()\n",
    "\n",
    "# Render as markdown tables\n",
    "for name, df in samples.items():\n",
    "    title = f\"### {name.capitalize()} Sample\\n\"\n",
    "    md_table = df.to_markdown(index=False)\n",
    "    display(Markdown(title + md_table))\n"
   ]
  },
  {
   "cell_type": "markdown",
   "id": "0d6e88b0",
   "metadata": {},
   "source": [
    "# Part 2: Data Population\n",
    "\n",
    "\n",
    "Programmatically inserted realistic sample data into each of our six collections, ensuring that every foreign-key reference points to a valid parent document.\n",
    "\n",
    "\n",
    "1. **Cleared** all existing documents in `users`, `courses`, `enrollments`, `lessons`, `assignments`, and `submissions`.  \n",
    "2. **Generated & Inserted**:  \n",
    "   - 20 users (5 instructors, 15 students)  \n",
    "   - 8 courses across distinct categories  \n",
    "   - 15 enrollments linking students ↔ courses  \n",
    "   - 25 lessons spread across those courses  \n",
    "   - 10 assignments tied to courses  \n",
    "   - 12 submissions tied to assignments & students  \n",
    "3. **Maintained Referential Integrity**:  \n",
    "   - `instructorId` in **courses** → `users.userId`  \n",
    "   - `userId` & `courseId` in **enrollments** → `users.userId`, `courses.courseId`  \n",
    "   - `courseId` in **lessons**, **assignments** → `courses.courseId`  \n",
    "   - `assignmentId` & `userId` in **submissions** → `assignments.assignmentId`, `users.userId`  \n"
   ]
  },
  {
   "cell_type": "code",
   "execution_count": 2,
   "id": "9b78e77f",
   "metadata": {},
   "outputs": [
    {
     "name": "stdout",
     "output_type": "stream",
     "text": [
      "[OK] Sample data inserted.\n"
     ]
    },
    {
     "data": {
      "text/html": [
       "<div>\n",
       "<style scoped>\n",
       "    .dataframe tbody tr th:only-of-type {\n",
       "        vertical-align: middle;\n",
       "    }\n",
       "\n",
       "    .dataframe tbody tr th {\n",
       "        vertical-align: top;\n",
       "    }\n",
       "\n",
       "    .dataframe thead th {\n",
       "        text-align: right;\n",
       "    }\n",
       "</style>\n",
       "<table border=\"1\" class=\"dataframe\">\n",
       "  <thead>\n",
       "    <tr style=\"text-align: right;\">\n",
       "      <th></th>\n",
       "      <th>submissionId</th>\n",
       "      <th>assignmentId</th>\n",
       "      <th>userId</th>\n",
       "      <th>submittedAt</th>\n",
       "      <th>grade</th>\n",
       "      <th>feedback</th>\n",
       "      <th>_id</th>\n",
       "    </tr>\n",
       "  </thead>\n",
       "  <tbody>\n",
       "    <tr>\n",
       "      <th>0</th>\n",
       "      <td>s6001</td>\n",
       "      <td>a5008</td>\n",
       "      <td>u1002</td>\n",
       "      <td>2024-06-24 04:06:33.533217</td>\n",
       "      <td>28</td>\n",
       "      <td>Needs improvement.</td>\n",
       "      <td>6850e9c924ef14dd39507d87</td>\n",
       "    </tr>\n",
       "    <tr>\n",
       "      <th>1</th>\n",
       "      <td>s6002</td>\n",
       "      <td>a5002</td>\n",
       "      <td>u1006</td>\n",
       "      <td>2024-08-31 04:06:33.533217</td>\n",
       "      <td>75</td>\n",
       "      <td>Good job!</td>\n",
       "      <td>6850e9c924ef14dd39507d88</td>\n",
       "    </tr>\n",
       "    <tr>\n",
       "      <th>2</th>\n",
       "      <td>s6003</td>\n",
       "      <td>a5009</td>\n",
       "      <td>u1004</td>\n",
       "      <td>2024-07-27 04:06:33.533217</td>\n",
       "      <td>28</td>\n",
       "      <td>Needs improvement.</td>\n",
       "      <td>6850e9c924ef14dd39507d89</td>\n",
       "    </tr>\n",
       "    <tr>\n",
       "      <th>3</th>\n",
       "      <td>s6004</td>\n",
       "      <td>a5001</td>\n",
       "      <td>u1002</td>\n",
       "      <td>2025-02-15 04:06:33.533217</td>\n",
       "      <td>29</td>\n",
       "      <td>Needs improvement.</td>\n",
       "      <td>6850e9c924ef14dd39507d8a</td>\n",
       "    </tr>\n",
       "    <tr>\n",
       "      <th>4</th>\n",
       "      <td>s6005</td>\n",
       "      <td>a5002</td>\n",
       "      <td>u1015</td>\n",
       "      <td>2024-08-31 04:06:33.533217</td>\n",
       "      <td>42</td>\n",
       "      <td>Needs improvement.</td>\n",
       "      <td>6850e9c924ef14dd39507d8b</td>\n",
       "    </tr>\n",
       "    <tr>\n",
       "      <th>5</th>\n",
       "      <td>s6006</td>\n",
       "      <td>a5002</td>\n",
       "      <td>u1009</td>\n",
       "      <td>2024-09-03 04:06:33.533217</td>\n",
       "      <td>35</td>\n",
       "      <td>Needs improvement.</td>\n",
       "      <td>6850e9c924ef14dd39507d8c</td>\n",
       "    </tr>\n",
       "    <tr>\n",
       "      <th>6</th>\n",
       "      <td>s6007</td>\n",
       "      <td>a5008</td>\n",
       "      <td>u1004</td>\n",
       "      <td>2024-06-21 04:06:33.533217</td>\n",
       "      <td>92</td>\n",
       "      <td>Good job!</td>\n",
       "      <td>6850e9c924ef14dd39507d8d</td>\n",
       "    </tr>\n",
       "    <tr>\n",
       "      <th>7</th>\n",
       "      <td>s6008</td>\n",
       "      <td>a5010</td>\n",
       "      <td>u1010</td>\n",
       "      <td>2024-11-20 04:06:33.533217</td>\n",
       "      <td>31</td>\n",
       "      <td>Needs improvement.</td>\n",
       "      <td>6850e9c924ef14dd39507d8e</td>\n",
       "    </tr>\n",
       "    <tr>\n",
       "      <th>8</th>\n",
       "      <td>s6009</td>\n",
       "      <td>a5008</td>\n",
       "      <td>u1013</td>\n",
       "      <td>2024-06-30 04:06:33.533217</td>\n",
       "      <td>24</td>\n",
       "      <td>Needs improvement.</td>\n",
       "      <td>6850e9c924ef14dd39507d8f</td>\n",
       "    </tr>\n",
       "    <tr>\n",
       "      <th>9</th>\n",
       "      <td>s6010</td>\n",
       "      <td>a5002</td>\n",
       "      <td>u1002</td>\n",
       "      <td>2024-09-06 04:06:33.533217</td>\n",
       "      <td>45</td>\n",
       "      <td>Needs improvement.</td>\n",
       "      <td>6850e9c924ef14dd39507d90</td>\n",
       "    </tr>\n",
       "    <tr>\n",
       "      <th>10</th>\n",
       "      <td>s6011</td>\n",
       "      <td>a5007</td>\n",
       "      <td>u1007</td>\n",
       "      <td>2025-03-15 04:06:33.533217</td>\n",
       "      <td>93</td>\n",
       "      <td>Good job!</td>\n",
       "      <td>6850e9c924ef14dd39507d91</td>\n",
       "    </tr>\n",
       "    <tr>\n",
       "      <th>11</th>\n",
       "      <td>s6012</td>\n",
       "      <td>a5001</td>\n",
       "      <td>u1011</td>\n",
       "      <td>2025-02-16 04:06:33.533217</td>\n",
       "      <td>7</td>\n",
       "      <td>Needs improvement.</td>\n",
       "      <td>6850e9c924ef14dd39507d92</td>\n",
       "    </tr>\n",
       "  </tbody>\n",
       "</table>\n",
       "</div>"
      ],
      "text/plain": [
       "   submissionId assignmentId userId                submittedAt  grade  \\\n",
       "0         s6001        a5008  u1002 2024-06-24 04:06:33.533217     28   \n",
       "1         s6002        a5002  u1006 2024-08-31 04:06:33.533217     75   \n",
       "2         s6003        a5009  u1004 2024-07-27 04:06:33.533217     28   \n",
       "3         s6004        a5001  u1002 2025-02-15 04:06:33.533217     29   \n",
       "4         s6005        a5002  u1015 2024-08-31 04:06:33.533217     42   \n",
       "5         s6006        a5002  u1009 2024-09-03 04:06:33.533217     35   \n",
       "6         s6007        a5008  u1004 2024-06-21 04:06:33.533217     92   \n",
       "7         s6008        a5010  u1010 2024-11-20 04:06:33.533217     31   \n",
       "8         s6009        a5008  u1013 2024-06-30 04:06:33.533217     24   \n",
       "9         s6010        a5002  u1002 2024-09-06 04:06:33.533217     45   \n",
       "10        s6011        a5007  u1007 2025-03-15 04:06:33.533217     93   \n",
       "11        s6012        a5001  u1011 2025-02-16 04:06:33.533217      7   \n",
       "\n",
       "              feedback                       _id  \n",
       "0   Needs improvement.  6850e9c924ef14dd39507d87  \n",
       "1            Good job!  6850e9c924ef14dd39507d88  \n",
       "2   Needs improvement.  6850e9c924ef14dd39507d89  \n",
       "3   Needs improvement.  6850e9c924ef14dd39507d8a  \n",
       "4   Needs improvement.  6850e9c924ef14dd39507d8b  \n",
       "5   Needs improvement.  6850e9c924ef14dd39507d8c  \n",
       "6            Good job!  6850e9c924ef14dd39507d8d  \n",
       "7   Needs improvement.  6850e9c924ef14dd39507d8e  \n",
       "8   Needs improvement.  6850e9c924ef14dd39507d8f  \n",
       "9   Needs improvement.  6850e9c924ef14dd39507d90  \n",
       "10           Good job!  6850e9c924ef14dd39507d91  \n",
       "11  Needs improvement.  6850e9c924ef14dd39507d92  "
      ]
     },
     "execution_count": 2,
     "metadata": {},
     "output_type": "execute_result"
    }
   ],
   "source": [
    "# configure notebook\n",
    "from IPython.core.interactiveshell import InteractiveShell\n",
    "InteractiveShell.ast_node_interactivity = \"all\"\n",
    "\n",
    "# import and run\n",
    "import part2_data_population as part2_data_population\n",
    "tables = part2_data_population.main()\n",
    "\n",
    "# pandas will render each DataFrame\n",
    "tables[\"users\"]\n",
    "tables[\"courses\"]\n",
    "tables[\"enrollments\"]\n",
    "tables[\"lessons\"]\n",
    "tables[\"assignments\"]\n",
    "tables[\"submissions\"]\n",
    "\n"
   ]
  },
  {
   "cell_type": "markdown",
   "id": "727eec45",
   "metadata": {},
   "source": [
    "## Part 2.2: Demonstrating Referential Integrity\n",
    "\n",
    "Below we merge key collections to prove that every foreign-key reference points to a valid parent document:\n",
    "\n",
    "1. **Courses → Instructors**  \n",
    "2. **Enrollments → Students & Courses**  \n"
   ]
  },
  {
   "cell_type": "code",
   "execution_count": 3,
   "id": "451fad78",
   "metadata": {},
   "outputs": [
    {
     "data": {
      "text/markdown": [
       "### Courses → Instructors\n",
       "| courseId   | title                         | firstName   | lastName   |\n",
       "|:-----------|:------------------------------|:------------|:-----------|\n",
       "| c3001      | Data Science Essentials       | Instructor4 | Smith      |\n",
       "| c3002      | Web Development Essentials    | Instructor4 | Smith      |\n",
       "| c3003      | Machine Learning Essentials   | Instructor3 | Smith      |\n",
       "| c3004      | Cloud Computing Essentials    | Instructor1 | Smith      |\n",
       "| c3005      | UI/UX Design Essentials       | Instructor1 | Smith      |\n",
       "| c3006      | Cybersecurity Essentials      | Instructor3 | Smith      |\n",
       "| c3007      | Mobile Development Essentials | Instructor2 | Smith      |\n",
       "| c3008      | Databases Essentials          | Instructor5 | Smith      |"
      ],
      "text/plain": [
       "<IPython.core.display.Markdown object>"
      ]
     },
     "metadata": {},
     "output_type": "display_data"
    },
    {
     "data": {
      "text/markdown": [
       "### Enrollments → Students & Courses\n",
       "| enrollmentId   | firstName   | lastName   | title                         |   progress | completionStatus   |\n",
       "|:---------------|:------------|:-----------|:------------------------------|-----------:|:-------------------|\n",
       "| e4001          | Student4    | Jones      | Data Science Essentials       |         51 | in progress        |\n",
       "| e4002          | Student5    | Jones      | Web Development Essentials    |         72 | in progress        |\n",
       "| e4003          | Student15   | Jones      | Cybersecurity Essentials      |         83 | in progress        |\n",
       "| e4004          | Student8    | Jones      | Mobile Development Essentials |         58 | in progress        |\n",
       "| e4005          | Student3    | Jones      | UI/UX Design Essentials       |         31 | in progress        |\n",
       "| e4006          | Student12   | Jones      | UI/UX Design Essentials       |         54 | in progress        |\n",
       "| e4007          | Student15   | Jones      | Mobile Development Essentials |         28 | in progress        |\n",
       "| e4008          | Student3    | Jones      | Databases Essentials          |         96 | in progress        |\n",
       "| e4009          | Student1    | Jones      | Web Development Essentials    |         80 | in progress        |\n",
       "| e4010          | Student3    | Jones      | Mobile Development Essentials |          8 | in progress        |\n",
       "| e4011          | Student7    | Jones      | Mobile Development Essentials |         59 | in progress        |\n",
       "| e4012          | Student9    | Jones      | UI/UX Design Essentials       |          1 | in progress        |\n",
       "| e4013          | Student11   | Jones      | Web Development Essentials    |         68 | in progress        |\n",
       "| e4014          | Student13   | Jones      | UI/UX Design Essentials       |         43 | in progress        |\n",
       "| e4015          | Student2    | Jones      | UI/UX Design Essentials       |         20 | in progress        |"
      ],
      "text/plain": [
       "<IPython.core.display.Markdown object>"
      ]
     },
     "metadata": {},
     "output_type": "display_data"
    }
   ],
   "source": [
    "from IPython.display import Markdown, display\n",
    "\n",
    "# Assume `tables` has been populated by part2_data_population.main()\n",
    "users_df       = tables[\"users\"]\n",
    "courses_df     = tables[\"courses\"]\n",
    "enrollments_df = tables[\"enrollments\"]\n",
    "\n",
    "# 1) Courses with their instructor’s name\n",
    "instructors_df = users_df[users_df.role == \"instructor\"][[\"userId\", \"firstName\", \"lastName\"]]\n",
    "courses_with_instructor = courses_df.merge(\n",
    "    instructors_df,\n",
    "    left_on=\"instructorId\",\n",
    "    right_on=\"userId\"\n",
    ")[[\"courseId\", \"title\", \"firstName\", \"lastName\"]]\n",
    "\n",
    "display(Markdown(\n",
    "    \"### Courses → Instructors\\n\" +\n",
    "    courses_with_instructor.to_markdown(index=False)\n",
    "))\n",
    "\n",
    "# 2) Enrollments with student name and course title\n",
    "students_df = users_df[users_df.role == \"student\"][[\"userId\", \"firstName\", \"lastName\"]]\n",
    "enrollments_with_details = (\n",
    "    enrollments_df\n",
    "    .merge(students_df, on=\"userId\")\n",
    "    .merge(courses_df[[\"courseId\", \"title\"]], on=\"courseId\")\n",
    "    [[\"enrollmentId\", \"firstName\", \"lastName\", \"title\", \"progress\", \"completionStatus\"]]\n",
    ")\n",
    "\n",
    "display(Markdown(\n",
    "    \"### Enrollments → Students & Courses\\n\" +\n",
    "    enrollments_with_details.to_markdown(index=False)\n",
    "))\n"
   ]
  },
  {
   "cell_type": "code",
   "execution_count": 4,
   "id": "02a7e559",
   "metadata": {},
   "outputs": [
    {
     "data": {
      "text/html": [
       "<div>\n",
       "<style scoped>\n",
       "    .dataframe tbody tr th:only-of-type {\n",
       "        vertical-align: middle;\n",
       "    }\n",
       "\n",
       "    .dataframe tbody tr th {\n",
       "        vertical-align: top;\n",
       "    }\n",
       "\n",
       "    .dataframe thead th {\n",
       "        text-align: right;\n",
       "    }\n",
       "</style>\n",
       "<table border=\"1\" class=\"dataframe\">\n",
       "  <thead>\n",
       "    <tr style=\"text-align: right;\">\n",
       "      <th></th>\n",
       "      <th>_id</th>\n",
       "      <th>userId</th>\n",
       "      <th>email</th>\n",
       "      <th>firstName</th>\n",
       "      <th>lastName</th>\n",
       "      <th>role</th>\n",
       "      <th>dateJoined</th>\n",
       "      <th>profile</th>\n",
       "      <th>isActive</th>\n",
       "    </tr>\n",
       "  </thead>\n",
       "  <tbody>\n",
       "    <tr>\n",
       "      <th>0</th>\n",
       "      <td>6850e9c924ef14dd39507d3e</td>\n",
       "      <td>u1001</td>\n",
       "      <td>student1@example.com</td>\n",
       "      <td>Student1</td>\n",
       "      <td>Jones</td>\n",
       "      <td>student</td>\n",
       "      <td>2025-02-23 04:06:33.533</td>\n",
       "      <td>{'bio': '', 'avatar': '', 'skills': []}</td>\n",
       "      <td>True</td>\n",
       "    </tr>\n",
       "    <tr>\n",
       "      <th>1</th>\n",
       "      <td>6850e9c924ef14dd39507d3f</td>\n",
       "      <td>u1002</td>\n",
       "      <td>student2@example.com</td>\n",
       "      <td>Student2</td>\n",
       "      <td>Jones</td>\n",
       "      <td>student</td>\n",
       "      <td>2025-04-26 04:06:33.533</td>\n",
       "      <td>{'bio': '', 'avatar': '', 'skills': []}</td>\n",
       "      <td>True</td>\n",
       "    </tr>\n",
       "    <tr>\n",
       "      <th>2</th>\n",
       "      <td>6850e9c924ef14dd39507d41</td>\n",
       "      <td>u1004</td>\n",
       "      <td>student4@example.com</td>\n",
       "      <td>Student4</td>\n",
       "      <td>Jones</td>\n",
       "      <td>student</td>\n",
       "      <td>2025-06-01 04:06:33.533</td>\n",
       "      <td>{'bio': '', 'avatar': '', 'skills': []}</td>\n",
       "      <td>True</td>\n",
       "    </tr>\n",
       "    <tr>\n",
       "      <th>3</th>\n",
       "      <td>6850e9c924ef14dd39507d42</td>\n",
       "      <td>u1005</td>\n",
       "      <td>student5@example.com</td>\n",
       "      <td>Student5</td>\n",
       "      <td>Jones</td>\n",
       "      <td>student</td>\n",
       "      <td>2025-05-01 04:06:33.533</td>\n",
       "      <td>{'bio': '', 'avatar': '', 'skills': []}</td>\n",
       "      <td>True</td>\n",
       "    </tr>\n",
       "    <tr>\n",
       "      <th>4</th>\n",
       "      <td>6850e9c924ef14dd39507d43</td>\n",
       "      <td>u1006</td>\n",
       "      <td>student6@example.com</td>\n",
       "      <td>Student6</td>\n",
       "      <td>Jones</td>\n",
       "      <td>student</td>\n",
       "      <td>2025-02-18 04:06:33.533</td>\n",
       "      <td>{'bio': '', 'avatar': '', 'skills': []}</td>\n",
       "      <td>True</td>\n",
       "    </tr>\n",
       "    <tr>\n",
       "      <th>5</th>\n",
       "      <td>6850e9c924ef14dd39507d44</td>\n",
       "      <td>u1007</td>\n",
       "      <td>student7@example.com</td>\n",
       "      <td>Student7</td>\n",
       "      <td>Jones</td>\n",
       "      <td>student</td>\n",
       "      <td>2024-09-03 04:06:33.533</td>\n",
       "      <td>{'bio': '', 'avatar': '', 'skills': []}</td>\n",
       "      <td>True</td>\n",
       "    </tr>\n",
       "    <tr>\n",
       "      <th>6</th>\n",
       "      <td>6850e9c924ef14dd39507d47</td>\n",
       "      <td>u1010</td>\n",
       "      <td>student10@example.com</td>\n",
       "      <td>Student10</td>\n",
       "      <td>Jones</td>\n",
       "      <td>student</td>\n",
       "      <td>2024-08-20 04:06:33.533</td>\n",
       "      <td>{'bio': '', 'avatar': '', 'skills': []}</td>\n",
       "      <td>True</td>\n",
       "    </tr>\n",
       "    <tr>\n",
       "      <th>7</th>\n",
       "      <td>6850e9c924ef14dd39507d48</td>\n",
       "      <td>u1011</td>\n",
       "      <td>student11@example.com</td>\n",
       "      <td>Student11</td>\n",
       "      <td>Jones</td>\n",
       "      <td>student</td>\n",
       "      <td>2025-06-14 04:06:33.533</td>\n",
       "      <td>{'bio': '', 'avatar': '', 'skills': []}</td>\n",
       "      <td>True</td>\n",
       "    </tr>\n",
       "    <tr>\n",
       "      <th>8</th>\n",
       "      <td>6850e9c924ef14dd39507d4a</td>\n",
       "      <td>u1013</td>\n",
       "      <td>student13@example.com</td>\n",
       "      <td>Student13</td>\n",
       "      <td>Jones</td>\n",
       "      <td>student</td>\n",
       "      <td>2024-12-25 04:06:33.533</td>\n",
       "      <td>{'bio': '', 'avatar': '', 'skills': []}</td>\n",
       "      <td>True</td>\n",
       "    </tr>\n",
       "    <tr>\n",
       "      <th>9</th>\n",
       "      <td>6850e9c924ef14dd39507d4b</td>\n",
       "      <td>u1014</td>\n",
       "      <td>student14@example.com</td>\n",
       "      <td>Student14</td>\n",
       "      <td>Jones</td>\n",
       "      <td>student</td>\n",
       "      <td>2025-03-30 04:06:33.533</td>\n",
       "      <td>{'bio': '', 'avatar': '', 'skills': []}</td>\n",
       "      <td>True</td>\n",
       "    </tr>\n",
       "    <tr>\n",
       "      <th>10</th>\n",
       "      <td>6850e9c924ef14dd39507d4c</td>\n",
       "      <td>u1015</td>\n",
       "      <td>student15@example.com</td>\n",
       "      <td>Student15</td>\n",
       "      <td>Jones</td>\n",
       "      <td>student</td>\n",
       "      <td>2024-12-27 04:06:33.533</td>\n",
       "      <td>{'bio': '', 'avatar': '', 'skills': []}</td>\n",
       "      <td>True</td>\n",
       "    </tr>\n",
       "  </tbody>\n",
       "</table>\n",
       "</div>"
      ],
      "text/plain": [
       "                         _id userId                  email  firstName  \\\n",
       "0   6850e9c924ef14dd39507d3e  u1001   student1@example.com   Student1   \n",
       "1   6850e9c924ef14dd39507d3f  u1002   student2@example.com   Student2   \n",
       "2   6850e9c924ef14dd39507d41  u1004   student4@example.com   Student4   \n",
       "3   6850e9c924ef14dd39507d42  u1005   student5@example.com   Student5   \n",
       "4   6850e9c924ef14dd39507d43  u1006   student6@example.com   Student6   \n",
       "5   6850e9c924ef14dd39507d44  u1007   student7@example.com   Student7   \n",
       "6   6850e9c924ef14dd39507d47  u1010  student10@example.com  Student10   \n",
       "7   6850e9c924ef14dd39507d48  u1011  student11@example.com  Student11   \n",
       "8   6850e9c924ef14dd39507d4a  u1013  student13@example.com  Student13   \n",
       "9   6850e9c924ef14dd39507d4b  u1014  student14@example.com  Student14   \n",
       "10  6850e9c924ef14dd39507d4c  u1015  student15@example.com  Student15   \n",
       "\n",
       "   lastName     role              dateJoined  \\\n",
       "0     Jones  student 2025-02-23 04:06:33.533   \n",
       "1     Jones  student 2025-04-26 04:06:33.533   \n",
       "2     Jones  student 2025-06-01 04:06:33.533   \n",
       "3     Jones  student 2025-05-01 04:06:33.533   \n",
       "4     Jones  student 2025-02-18 04:06:33.533   \n",
       "5     Jones  student 2024-09-03 04:06:33.533   \n",
       "6     Jones  student 2024-08-20 04:06:33.533   \n",
       "7     Jones  student 2025-06-14 04:06:33.533   \n",
       "8     Jones  student 2024-12-25 04:06:33.533   \n",
       "9     Jones  student 2025-03-30 04:06:33.533   \n",
       "10    Jones  student 2024-12-27 04:06:33.533   \n",
       "\n",
       "                                    profile  isActive  \n",
       "0   {'bio': '', 'avatar': '', 'skills': []}      True  \n",
       "1   {'bio': '', 'avatar': '', 'skills': []}      True  \n",
       "2   {'bio': '', 'avatar': '', 'skills': []}      True  \n",
       "3   {'bio': '', 'avatar': '', 'skills': []}      True  \n",
       "4   {'bio': '', 'avatar': '', 'skills': []}      True  \n",
       "5   {'bio': '', 'avatar': '', 'skills': []}      True  \n",
       "6   {'bio': '', 'avatar': '', 'skills': []}      True  \n",
       "7   {'bio': '', 'avatar': '', 'skills': []}      True  \n",
       "8   {'bio': '', 'avatar': '', 'skills': []}      True  \n",
       "9   {'bio': '', 'avatar': '', 'skills': []}      True  \n",
       "10  {'bio': '', 'avatar': '', 'skills': []}      True  "
      ]
     },
     "execution_count": 4,
     "metadata": {},
     "output_type": "execute_result"
    },
    {
     "ename": "TypeError",
     "evalue": "'NoneType' object is not subscriptable",
     "output_type": "error",
     "traceback": [
      "\u001b[0;31m---------------------------------------------------------------------------\u001b[0m",
      "\u001b[0;31mTypeError\u001b[0m                                 Traceback (most recent call last)",
      "Cell \u001b[0;32mIn[4], line 11\u001b[0m\n\u001b[1;32m      9\u001b[0m \u001b[38;5;66;03m# Call any function you like, e.g.:\u001b[39;00m\n\u001b[1;32m     10\u001b[0m part3_crud\u001b[38;5;241m.\u001b[39mget_active_students(db)\n\u001b[0;32m---> 11\u001b[0m \u001b[43mpart3_crud\u001b[49m\u001b[38;5;241;43m.\u001b[39;49m\u001b[43mget_course_details\u001b[49m\u001b[43m(\u001b[49m\u001b[43mdb\u001b[49m\u001b[43m,\u001b[49m\u001b[43m \u001b[49m\u001b[38;5;124;43m\"\u001b[39;49m\u001b[38;5;124;43mc9999\u001b[39;49m\u001b[38;5;124;43m\"\u001b[39;49m\u001b[43m)\u001b[49m\n",
      "File \u001b[0;32m~/mongodb-eduhub-project/part3_crud.py:115\u001b[0m, in \u001b[0;36mget_course_details\u001b[0;34m(db, courseId)\u001b[0m\n\u001b[1;32m    113\u001b[0m \u001b[38;5;28;01mdef\u001b[39;00m\u001b[38;5;250m \u001b[39m\u001b[38;5;21mget_course_details\u001b[39m(db, courseId):\n\u001b[1;32m    114\u001b[0m     course \u001b[38;5;241m=\u001b[39m db\u001b[38;5;241m.\u001b[39mcourses\u001b[38;5;241m.\u001b[39mfind_one({\u001b[38;5;124m\"\u001b[39m\u001b[38;5;124mcourseId\u001b[39m\u001b[38;5;124m\"\u001b[39m: courseId})\n\u001b[0;32m--> 115\u001b[0m     instr \u001b[38;5;241m=\u001b[39m db\u001b[38;5;241m.\u001b[39musers\u001b[38;5;241m.\u001b[39mfind_one({\u001b[38;5;124m\"\u001b[39m\u001b[38;5;124muserId\u001b[39m\u001b[38;5;124m\"\u001b[39m: \u001b[43mcourse\u001b[49m\u001b[43m[\u001b[49m\u001b[38;5;124;43m\"\u001b[39;49m\u001b[38;5;124;43minstructorId\u001b[39;49m\u001b[38;5;124;43m\"\u001b[39;49m\u001b[43m]\u001b[49m})\n\u001b[1;32m    116\u001b[0m     \u001b[38;5;28;01mif\u001b[39;00m \u001b[38;5;129;01mnot\u001b[39;00m course \u001b[38;5;129;01mor\u001b[39;00m \u001b[38;5;129;01mnot\u001b[39;00m instr:\n\u001b[1;32m    117\u001b[0m         \u001b[38;5;28;01mreturn\u001b[39;00m pd\u001b[38;5;241m.\u001b[39mDataFrame()\n",
      "\u001b[0;31mTypeError\u001b[0m: 'NoneType' object is not subscriptable"
     ]
    }
   ],
   "source": [
    "# In a single cell:\n",
    "from IPython.core.interactiveshell import InteractiveShell\n",
    "InteractiveShell.ast_node_interactivity = \"all\"\n",
    "\n",
    "import part3_crud as part3_crud\n",
    "client = part3_crud.get_client()\n",
    "db = client[part1_setup.DB_NAME]\n",
    "\n",
    "# Call any function you like, e.g.:\n",
    "part3_crud.get_active_students(db)\n",
    "part3_crud.get_course_details(db, \"c9999\")\n"
   ]
  },
  {
   "cell_type": "markdown",
   "id": "0b46bd92",
   "metadata": {},
   "source": [
    "# Part 3: Basic CRUD Operations\n",
    "\n",
    "This section demonstrate end-to-end Create, Read, Update and Delete operations on our MongoDB collections using PyMongo. All operations are wrapped in functions in the `part3_crud` module and return pandas DataFrames, which are render as clean Markdown tables below.\n",
    "\n",
    "---\n",
    "\n",
    "## Tasks Covered\n",
    "\n",
    "1. **Create Operations**  \n",
    "   - Add a new student user  \n",
    "   - Create a new course  \n",
    "   - Enroll a student in a course  \n",
    "   - Add a new lesson to a course  \n",
    "\n",
    "2. **Read Operations**  \n",
    "   - Find all active students  \n",
    "   - Retrieve course details (with instructor info)  \n",
    "   - Get all courses in a specific category  \n",
    "   - List students enrolled in a particular course  \n",
    "   - Search courses by title (case-insensitive, partial match)  \n",
    "\n",
    "3. **Update Operations**  \n",
    "   - Update a user’s profile information  \n",
    "   - Mark a course as published  \n",
    "   - Update assignment grades  \n",
    "   - Add tags to an existing course  \n",
    "\n",
    "4. **Delete Operations**  \n",
    "   - Soft-delete a user (set `isActive = false`)  \n",
    "   - Delete an enrollment  \n",
    "   - Remove a lesson from a course  \n",
    "\n",
    "---\n",
    "\n",
    "## Implementation Highlights\n",
    "\n",
    "- **Modular functions** in `part3_crud.py` encapsulate each operation.  \n",
    "- **pandas DataFrames** returned by each function allow immediate tabular display.  \n",
    "- **Pure-Markdown tables** (`df.to_markdown(index=False)`) ensure a polished, console-friendly look.  \n",
    "- All operations are executed in a single notebook cell for an **end-to-end** demonstration.\n"
   ]
  },
  {
   "cell_type": "code",
   "execution_count": 5,
   "id": "ab836476",
   "metadata": {},
   "outputs": [
    {
     "name": "stdout",
     "output_type": "stream",
     "text": [
      "[OK] Sample data inserted.\n"
     ]
    },
    {
     "data": {
      "text/markdown": [
       "## Created Student (u9001)\n",
       "\n",
       "| userId   | email                | firstName   | lastName   | role    | dateJoined                 | profile                                 | isActive   | _id                      |\n",
       "|:---------|:---------------------|:------------|:-----------|:--------|:---------------------------|:----------------------------------------|:-----------|:-------------------------|\n",
       "| u9001    | jane.doe@example.com | Jane        | Doe        | student | 2025-06-17 04:06:50.446735 | {'bio': '', 'avatar': '', 'skills': []} | True       | 6850e9da24ef14dd39507df0 |\n"
      ],
      "text/plain": [
       "<IPython.core.display.Markdown object>"
      ]
     },
     "metadata": {},
     "output_type": "display_data"
    },
    {
     "data": {
      "text/markdown": [
       "## Created Course (c9001)\n",
       "\n",
       "| courseId   | title                 | description   | instructorId   | category         | level    |   duration |   price | tags                      |   rating |   ratingsCount | createdAt                  | updatedAt                  | isPublished   | _id                      |\n",
       "|:-----------|:----------------------|:--------------|:---------------|:-----------------|:---------|-----------:|--------:|:--------------------------|---------:|---------------:|:---------------------------|:---------------------------|:--------------|:-------------------------|\n",
       "| c9001      | Automated Testing 101 |               | u2001          | Software Testing | beginner |          4 |   49.99 | ['testing', 'automation'] |        0 |              0 | 2025-06-17 04:06:50.447785 | 2025-06-17 04:06:50.447785 | False         | 6850e9da24ef14dd39507df1 |\n"
      ],
      "text/plain": [
       "<IPython.core.display.Markdown object>"
      ]
     },
     "metadata": {},
     "output_type": "display_data"
    },
    {
     "data": {
      "text/markdown": [
       "## Enrolled Student (e9001)\n",
       "\n",
       "| enrollmentId   | userId   | courseId   | enrolledAt                 |   progress | completionStatus   | _id                      |\n",
       "|:---------------|:---------|:-----------|:---------------------------|-----------:|:-------------------|:-------------------------|\n",
       "| e9001          | u9001    | c9001      | 2025-06-17 04:06:50.449264 |          0 | in progress        | 6850e9da24ef14dd39507df2 |\n"
      ],
      "text/plain": [
       "<IPython.core.display.Markdown object>"
      ]
     },
     "metadata": {},
     "output_type": "display_data"
    },
    {
     "data": {
      "text/markdown": [
       "## Added Lesson (l9001)\n",
       "\n",
       "| lessonId   | courseId   | title                           | content                           |   order | createdAt                  | updatedAt                  | _id                      |\n",
       "|:-----------|:-----------|:--------------------------------|:----------------------------------|--------:|:---------------------------|:---------------------------|:-------------------------|\n",
       "| l9001      | c9001      | Introduction to Test Automation | Overview of tools and frameworks. |       1 | 2025-06-17 04:06:50.449936 | 2025-06-17 04:06:50.449936 | 6850e9da24ef14dd39507df3 |\n"
      ],
      "text/plain": [
       "<IPython.core.display.Markdown object>"
      ]
     },
     "metadata": {},
     "output_type": "display_data"
    },
    {
     "data": {
      "text/markdown": [
       "## Active Students\n",
       "\n",
       "| _id                      | userId   | email                 | firstName   | lastName   | role    | dateJoined                 | profile                                 | isActive   |\n",
       "|:-------------------------|:---------|:----------------------|:------------|:-----------|:--------|:---------------------------|:----------------------------------------|:-----------|\n",
       "| 6850e9da24ef14dd39507d9a | u1001    | student1@example.com  | Student1    | Jones      | student | 2024-09-14 04:06:50.428000 | {'bio': '', 'avatar': '', 'skills': []} | True       |\n",
       "| 6850e9da24ef14dd39507d9b | u1002    | student2@example.com  | Student2    | Jones      | student | 2025-05-01 04:06:50.428000 | {'bio': '', 'avatar': '', 'skills': []} | True       |\n",
       "| 6850e9da24ef14dd39507d9f | u1006    | student6@example.com  | Student6    | Jones      | student | 2025-05-18 04:06:50.428000 | {'bio': '', 'avatar': '', 'skills': []} | True       |\n",
       "| 6850e9da24ef14dd39507da0 | u1007    | student7@example.com  | Student7    | Jones      | student | 2024-12-05 04:06:50.428000 | {'bio': '', 'avatar': '', 'skills': []} | True       |\n",
       "| 6850e9da24ef14dd39507da1 | u1008    | student8@example.com  | Student8    | Jones      | student | 2024-11-30 04:06:50.428000 | {'bio': '', 'avatar': '', 'skills': []} | True       |\n",
       "| 6850e9da24ef14dd39507da2 | u1009    | student9@example.com  | Student9    | Jones      | student | 2024-10-28 04:06:50.428000 | {'bio': '', 'avatar': '', 'skills': []} | True       |\n",
       "| 6850e9da24ef14dd39507da4 | u1011    | student11@example.com | Student11   | Jones      | student | 2025-03-30 04:06:50.428000 | {'bio': '', 'avatar': '', 'skills': []} | True       |\n",
       "| 6850e9da24ef14dd39507da5 | u1012    | student12@example.com | Student12   | Jones      | student | 2025-01-17 04:06:50.428000 | {'bio': '', 'avatar': '', 'skills': []} | True       |\n",
       "| 6850e9da24ef14dd39507da6 | u1013    | student13@example.com | Student13   | Jones      | student | 2025-05-19 04:06:50.428000 | {'bio': '', 'avatar': '', 'skills': []} | True       |\n",
       "| 6850e9da24ef14dd39507da7 | u1014    | student14@example.com | Student14   | Jones      | student | 2025-01-08 04:06:50.428000 | {'bio': '', 'avatar': '', 'skills': []} | True       |\n",
       "| 6850e9da24ef14dd39507df0 | u9001    | jane.doe@example.com  | Jane        | Doe        | student | 2025-06-17 04:06:50.446000 | {'bio': '', 'avatar': '', 'skills': []} | True       |\n"
      ],
      "text/plain": [
       "<IPython.core.display.Markdown object>"
      ]
     },
     "metadata": {},
     "output_type": "display_data"
    },
    {
     "data": {
      "text/markdown": [
       "## Course Details (c9001)\n",
       "\n",
       "| courseId   | title                 | category         | level    | isPublished   | instructorFirstName   | instructorLastName   |\n",
       "|:-----------|:----------------------|:-----------------|:---------|:--------------|:----------------------|:---------------------|\n",
       "| c9001      | Automated Testing 101 | Software Testing | beginner | False         | Instructor1           | Smith                |\n"
      ],
      "text/plain": [
       "<IPython.core.display.Markdown object>"
      ]
     },
     "metadata": {},
     "output_type": "display_data"
    },
    {
     "data": {
      "text/markdown": [
       "## Courses in 'Software Testing'\n",
       "\n",
       "| _id                      | courseId   | title                 | description   | instructorId   | category         | level    |   duration |   price | tags                      |   rating |   ratingsCount | createdAt                  | updatedAt                  | isPublished   |\n",
       "|:-------------------------|:-----------|:----------------------|:--------------|:---------------|:-----------------|:---------|-----------:|--------:|:--------------------------|---------:|---------------:|:---------------------------|:---------------------------|:--------------|\n",
       "| 6850e9da24ef14dd39507df1 | c9001      | Automated Testing 101 |               | u2001          | Software Testing | beginner |          4 |   49.99 | ['testing', 'automation'] |        0 |              0 | 2025-06-17 04:06:50.447000 | 2025-06-17 04:06:50.447000 | False         |\n"
      ],
      "text/plain": [
       "<IPython.core.display.Markdown object>"
      ]
     },
     "metadata": {},
     "output_type": "display_data"
    },
    {
     "data": {
      "text/markdown": [
       "## Students in Course c9001\n",
       "\n",
       "| enrollmentId   | userId   |   progress | completionStatus   | firstName   | lastName   |\n",
       "|:---------------|:---------|-----------:|:-------------------|:------------|:-----------|\n",
       "| e9001          | u9001    |          0 | in progress        | Jane        | Doe        |\n"
      ],
      "text/plain": [
       "<IPython.core.display.Markdown object>"
      ]
     },
     "metadata": {},
     "output_type": "display_data"
    },
    {
     "data": {
      "text/markdown": [
       "## Search Courses 'Testing'\n",
       "\n",
       "| _id                      | courseId   | title                 | description   | instructorId   | category         | level    |   duration |   price | tags                      |   rating |   ratingsCount | createdAt                  | updatedAt                  | isPublished   |\n",
       "|:-------------------------|:-----------|:----------------------|:--------------|:---------------|:-----------------|:---------|-----------:|--------:|:--------------------------|---------:|---------------:|:---------------------------|:---------------------------|:--------------|\n",
       "| 6850e9da24ef14dd39507df1 | c9001      | Automated Testing 101 |               | u2001          | Software Testing | beginner |          4 |   49.99 | ['testing', 'automation'] |        0 |              0 | 2025-06-17 04:06:50.447000 | 2025-06-17 04:06:50.447000 | False         |\n"
      ],
      "text/plain": [
       "<IPython.core.display.Markdown object>"
      ]
     },
     "metadata": {},
     "output_type": "display_data"
    },
    {
     "data": {
      "text/markdown": [
       "## Updated Profile (u9001)\n",
       "\n",
       "| _id                      | userId   | email                | firstName   | lastName   | role    | dateJoined                 | profile                                                                            | isActive   |\n",
       "|:-------------------------|:---------|:---------------------|:------------|:-----------|:--------|:---------------------------|:-----------------------------------------------------------------------------------|:-----------|\n",
       "| 6850e9da24ef14dd39507df0 | u9001    | jane.doe@example.com | Jane        | Doe        | student | 2025-06-17 04:06:50.446000 | {'bio': 'QA engineer in training', 'avatar': '', 'skills': ['Selenium', 'pytest']} | True       |\n"
      ],
      "text/plain": [
       "<IPython.core.display.Markdown object>"
      ]
     },
     "metadata": {},
     "output_type": "display_data"
    },
    {
     "data": {
      "text/markdown": [
       "## Published Course (c9001)\n",
       "\n",
       "| _id                      | courseId   | title                 | description   | instructorId   | category         | level    |   duration |   price | tags                      |   rating |   ratingsCount | createdAt                  | updatedAt                  | isPublished   |\n",
       "|:-------------------------|:-----------|:----------------------|:--------------|:---------------|:-----------------|:---------|-----------:|--------:|:--------------------------|---------:|---------------:|:---------------------------|:---------------------------|:--------------|\n",
       "| 6850e9da24ef14dd39507df1 | c9001      | Automated Testing 101 |               | u2001          | Software Testing | beginner |          4 |   49.99 | ['testing', 'automation'] |        0 |              0 | 2025-06-17 04:06:50.447000 | 2025-06-17 04:06:50.461000 | True          |\n"
      ],
      "text/plain": [
       "<IPython.core.display.Markdown object>"
      ]
     },
     "metadata": {},
     "output_type": "display_data"
    },
    {
     "data": {
      "text/markdown": [
       "## Updated Submission Grade (s6001)\n",
       "\n",
       "| _id                      | submissionId   | assignmentId   | userId   | submittedAt                |   grade | feedback   |\n",
       "|:-------------------------|:---------------|:---------------|:---------|:---------------------------|--------:|:-----------|\n",
       "| 6850e9da24ef14dd39507de3 | s6001          | a5010          | u1007    | 2025-06-03 04:06:50.428000 |      95 | Good job!  |\n"
      ],
      "text/plain": [
       "<IPython.core.display.Markdown object>"
      ]
     },
     "metadata": {},
     "output_type": "display_data"
    },
    {
     "data": {
      "text/markdown": [
       "## Added Tags to Course (c9001)\n",
       "\n",
       "| _id                      | courseId   | title                 | description   | instructorId   | category         | level    |   duration |   price | tags                                         |   rating |   ratingsCount | createdAt                  | updatedAt                  | isPublished   |\n",
       "|:-------------------------|:-----------|:----------------------|:--------------|:---------------|:-----------------|:---------|-----------:|--------:|:---------------------------------------------|---------:|---------------:|:---------------------------|:---------------------------|:--------------|\n",
       "| 6850e9da24ef14dd39507df1 | c9001      | Automated Testing 101 |               | u2001          | Software Testing | beginner |          4 |   49.99 | ['testing', 'automation', 'ci/cd', 'pytest'] |        0 |              0 | 2025-06-17 04:06:50.447000 | 2025-06-17 04:06:50.461000 | True          |\n"
      ],
      "text/plain": [
       "<IPython.core.display.Markdown object>"
      ]
     },
     "metadata": {},
     "output_type": "display_data"
    },
    {
     "data": {
      "text/markdown": [
       "## Soft-deleted User (u9001)\n",
       "\n",
       "| _id                      | userId   | email                | firstName   | lastName   | role    | dateJoined                 | profile                                                                            | isActive   |\n",
       "|:-------------------------|:---------|:---------------------|:------------|:-----------|:--------|:---------------------------|:-----------------------------------------------------------------------------------|:-----------|\n",
       "| 6850e9da24ef14dd39507df0 | u9001    | jane.doe@example.com | Jane        | Doe        | student | 2025-06-17 04:06:50.446000 | {'bio': 'QA engineer in training', 'avatar': '', 'skills': ['Selenium', 'pytest']} | False      |\n"
      ],
      "text/plain": [
       "<IPython.core.display.Markdown object>"
      ]
     },
     "metadata": {},
     "output_type": "display_data"
    },
    {
     "data": {
      "text/markdown": [
       "## Removed Enrollment (e9001)\n",
       "\n",
       "\n"
      ],
      "text/plain": [
       "<IPython.core.display.Markdown object>"
      ]
     },
     "metadata": {},
     "output_type": "display_data"
    },
    {
     "data": {
      "text/markdown": [
       "## Deleted Lesson (l9001)\n",
       "\n",
       "\n"
      ],
      "text/plain": [
       "<IPython.core.display.Markdown object>"
      ]
     },
     "metadata": {},
     "output_type": "display_data"
    }
   ],
   "source": [
    "\n",
    "\n",
    "# 1) Ensure we only see what we explicitly display\n",
    "from IPython.core.interactiveshell import InteractiveShell\n",
    "InteractiveShell.ast_node_interactivity = \"none\"\n",
    "\n",
    "# 2) Helpers for Markdown rendering\n",
    "from IPython.display import Markdown, display\n",
    "\n",
    "# 3) (Re)populate Part 2 data so we start from a known state\n",
    "import part2_data_population as part2_data_population\n",
    "tables2 = part2_data_population.main()\n",
    "\n",
    "# 4) Import setup and CRUD modules & get DB handle\n",
    "import part1_setup as part1_setup, part3_crud as part3_crud\n",
    "client = part1_setup.get_client()\n",
    "db = client[part1_setup.DB_NAME]\n",
    "\n",
    "# 5) Perform all CRUD tasks and collect their DataFrames\n",
    "results = {}\n",
    "\n",
    "# --- Task 3.1: CREATE ---\n",
    "results[\"Created Student (u9001)\"] = part3_crud.create_student(\n",
    "    db, userId=\"u9001\", email=\"jane.doe@example.com\",\n",
    "    firstName=\"Jane\", lastName=\"Doe\"\n",
    ")\n",
    "results[\"Created Course (c9001)\"] = part3_crud.create_course(\n",
    "    db, courseId=\"c9001\", title=\"Automated Testing 101\",\n",
    "    instructorId=\"u2001\", category=\"Software Testing\",\n",
    "    level=\"beginner\", duration=4.0, price=49.99,\n",
    "    tags=[\"testing\", \"automation\"]\n",
    ")\n",
    "results[\"Enrolled Student (e9001)\"] = part3_crud.enroll_student(\n",
    "    db, enrollmentId=\"e9001\", userId=\"u9001\", courseId=\"c9001\"\n",
    ")\n",
    "results[\"Added Lesson (l9001)\"] = part3_crud.add_lesson(\n",
    "    db, lessonId=\"l9001\", courseId=\"c9001\",\n",
    "    title=\"Introduction to Test Automation\",\n",
    "    content=\"Overview of tools and frameworks.\", order=1\n",
    ")\n",
    "\n",
    "# --- Task 3.2: READ ---\n",
    "results[\"Active Students\"] = part3_crud.get_active_students(db)\n",
    "results[\"Course Details (c9001)\"] = part3_crud.get_course_details(db, \"c9001\")\n",
    "results[\"Courses in 'Software Testing'\"] = part3_crud.get_courses_by_category(db, \"Software Testing\")\n",
    "results[\"Students in Course c9001\"] = part3_crud.get_students_in_course(db, \"c9001\")\n",
    "results[\"Search Courses 'Testing'\"] = part3_crud.search_courses_by_title(db, \"Testing\")\n",
    "\n",
    "# --- Task 3.3: UPDATE ---\n",
    "results[\"Updated Profile (u9001)\"] = part3_crud.update_user_profile(\n",
    "    db, userId=\"u9001\",\n",
    "    profile_updates={\"bio\": \"QA engineer in training\", \"skills\": [\"Selenium\", \"pytest\"]}\n",
    ")\n",
    "results[\"Published Course (c9001)\"] = part3_crud.publish_course(db, \"c9001\")\n",
    "results[\"Updated Submission Grade (s6001)\"] = part3_crud.update_submission_grade(db, \"s6001\", 95)\n",
    "results[\"Added Tags to Course (c9001)\"] = part3_crud.add_course_tags(\n",
    "    db, courseId=\"c9001\", tags=[\"ci/cd\", \"pytest\"]\n",
    ")\n",
    "\n",
    "# --- Task 3.4: DELETE ---\n",
    "results[\"Soft-deleted User (u9001)\"] = part3_crud.soft_delete_user(db, \"u9001\")\n",
    "results[\"Removed Enrollment (e9001)\"] = part3_crud.remove_enrollment(db, \"e9001\")\n",
    "results[\"Deleted Lesson (l9001)\"] = part3_crud.delete_lesson(db, \"l9001\")\n",
    "\n",
    "# 6) Render each result as a Markdown table\n",
    "for title, df in results.items():\n",
    "    display(Markdown(f\"## {title}\\n\\n{df.to_markdown(index=False)}\\n\"))\n"
   ]
  },
  {
   "cell_type": "markdown",
   "id": "3706342c",
   "metadata": {},
   "source": [
    "# Part 4: Advanced Queries & Aggregation\n",
    "\n",
    "\n",
    "Advanced data retrieval and analytics tasks on our MongoDB collections using PyMongo. Demonstrates both stand-alone queries (Task 4.1) and multi-stage aggregation pipelines (Task 4.2) to surface business insights.\n",
    "\n",
    "---\n",
    "\n",
    "### Task 4.1: Complex Queries  \n",
    "- **Price Filtering:** Find all courses with price between \\$50 and \\$200  \n",
    "- **Recent Users:** Retrieve users who joined in the last 6 months  \n",
    "- **Tag Search:** Find courses that include specified tags using the `$in` operator  \n",
    "- **Due-Soon Assignments:** Get assignments with due dates within the next week  \n",
    "\n",
    "### Task 4.2: Aggregation Pipelines  \n",
    "1. **Course Enrollment Statistics**  \n",
    "   - Total enrollments per course  \n",
    "   - Average course rating per category  \n",
    "2. **Course-Level Metrics**  \n",
    "   - Enrollment counts per course  \n",
    "   - Completion rate per course  \n",
    "3. **Student Performance Analysis**  \n",
    "   - Average grade per student  \n",
    "   - Identification of top-performing students (≥ 75th percentile)  \n",
    "4. **Instructor Analytics**  \n",
    "   - Total distinct students taught by each instructor  \n",
    "   - Average rating across their courses  \n",
    "   - Total revenue generated per instructor  \n",
    "5. **Advanced Analytics**  \n",
    "   - Monthly enrollment trends over the past year  \n",
    "   - Most popular course categories by enrollment  \n",
    "   - Average student progress per course  \n",
    "\n",
    "---\n",
    "\n",
    "## Implementation Highlights\n",
    "\n",
    "- **Modular Functions:** Each query/pipeline is encapsulated in a clear, reusable function in `part4_aggregation.py`.  \n",
    "- **Pure PyMongo Pipelines:** Leverages lookups, grouping, projection, and conditional logic directly in MongoDB.  \n",
    "- **Pandas DataFrames:** All results return as DataFrames, enabling seamless conversion to Markdown tables via `df.to_markdown()`.  \n",
    "- **Single-Cell Demonstration:** A single notebook cell runs every query and renders the outputs as clean, self-documented Markdown tables.\n",
    "\n",
    "Below you will see a sequence of Markdown-styled tables, one per query and aggregation, confirming that our data model supports the advanced analytical use cases outlined in the brief.  \n"
   ]
  },
  {
   "cell_type": "code",
   "execution_count": 6,
   "id": "eb16bcf9",
   "metadata": {},
   "outputs": [
    {
     "name": "stdout",
     "output_type": "stream",
     "text": [
      "\n",
      "=== Courses By Price ===\n",
      "+--------------------------+------------+-----------------------------+---------------------------------------------+----------------+------------------+--------------+------------+---------+------------------------------------+----------+----------------+----------------------------+----------------------------+---------------+\n",
      "| _id                      | courseId   | title                       | description                                 | instructorId   | category         | level        |   duration |   price | tags                               |   rating |   ratingsCount | createdAt                  | updatedAt                  | isPublished   |\n",
      "+==========================+============+=============================+=============================================+================+==================+==============+============+=========+====================================+==========+================+============================+============================+===============+\n",
      "| 6850e9da24ef14dd39507da9 | c3001      | Data Science Essentials     | An introductory course on Data Science.     | u2005          | Data Science     | beginner     |        5.9 |  101.57 | ['Data Science', 'Data']           |        0 |              0 | 2024-10-03 04:06:50.428000 | 2024-10-03 04:06:50.428000 | True          |\n",
      "+--------------------------+------------+-----------------------------+---------------------------------------------+----------------+------------------+--------------+------------+---------+------------------------------------+----------+----------------+----------------------------+----------------------------+---------------+\n",
      "| 6850e9da24ef14dd39507dab | c3003      | Machine Learning Essentials | An introductory course on Machine Learning. | u2002          | Machine Learning | advanced     |       13.9 |  123.88 | ['Machine Learning', 'Machine']    |        0 |              0 | 2024-08-30 04:06:50.428000 | 2024-08-30 04:06:50.428000 | False         |\n",
      "+--------------------------+------------+-----------------------------+---------------------------------------------+----------------+------------------+--------------+------------+---------+------------------------------------+----------+----------------+----------------------------+----------------------------+---------------+\n",
      "| 6850e9da24ef14dd39507dac | c3004      | Cloud Computing Essentials  | An introductory course on Cloud Computing.  | u2005          | Cloud Computing  | advanced     |       12.8 |  186.94 | ['Cloud Computing', 'Cloud']       |        0 |              0 | 2024-07-16 04:06:50.428000 | 2024-07-16 04:06:50.428000 | True          |\n",
      "+--------------------------+------------+-----------------------------+---------------------------------------------+----------------+------------------+--------------+------------+---------+------------------------------------+----------+----------------+----------------------------+----------------------------+---------------+\n",
      "| 6850e9da24ef14dd39507dae | c3006      | Cybersecurity Essentials    | An introductory course on Cybersecurity.    | u2003          | Cybersecurity    | beginner     |        5.1 |  124.23 | ['Cybersecurity', 'Cybersecurity'] |        0 |              0 | 2024-10-26 04:06:50.428000 | 2024-10-26 04:06:50.428000 | True          |\n",
      "+--------------------------+------------+-----------------------------+---------------------------------------------+----------------+------------------+--------------+------------+---------+------------------------------------+----------+----------------+----------------------------+----------------------------+---------------+\n",
      "| 6850e9da24ef14dd39507db0 | c3008      | Databases Essentials        | An introductory course on Databases.        | u2002          | Databases        | intermediate |        9.3 |   87.64 | ['Databases', 'Databases']         |        0 |              0 | 2025-05-13 04:06:50.428000 | 2025-05-13 04:06:50.428000 | False         |\n",
      "+--------------------------+------------+-----------------------------+---------------------------------------------+----------------+------------------+--------------+------------+---------+------------------------------------+----------+----------------+----------------------------+----------------------------+---------------+\n",
      "\n",
      "=== Recent Users ===\n",
      "+--------------------------+----------+-------------------------+-------------+------------+------------+----------------------------+------------------------------------------------------------------------------------+------------+\n",
      "| _id                      | userId   | email                   | firstName   | lastName   | role       | dateJoined                 | profile                                                                            | isActive   |\n",
      "+==========================+==========+=========================+=============+============+============+============================+====================================================================================+============+\n",
      "| 6850e9da24ef14dd39507d97 | u2003    | instructor3@example.com | Instructor3 | Smith      | instructor | 2025-03-29 04:06:50.428000 | {'bio': 'Expert in subject 3', 'avatar': '', 'skills': ['Teaching', 'Leadership']} | True       |\n",
      "+--------------------------+----------+-------------------------+-------------+------------+------------+----------------------------+------------------------------------------------------------------------------------+------------+\n",
      "| 6850e9da24ef14dd39507d98 | u2004    | instructor4@example.com | Instructor4 | Smith      | instructor | 2025-04-23 04:06:50.428000 | {'bio': 'Expert in subject 4', 'avatar': '', 'skills': ['Teaching', 'Leadership']} | True       |\n",
      "+--------------------------+----------+-------------------------+-------------+------------+------------+----------------------------+------------------------------------------------------------------------------------+------------+\n",
      "| 6850e9da24ef14dd39507d9b | u1002    | student2@example.com    | Student2    | Jones      | student    | 2025-05-01 04:06:50.428000 | {'bio': '', 'avatar': '', 'skills': []}                                            | True       |\n",
      "+--------------------------+----------+-------------------------+-------------+------------+------------+----------------------------+------------------------------------------------------------------------------------+------------+\n",
      "| 6850e9da24ef14dd39507d9c | u1003    | student3@example.com    | Student3    | Jones      | student    | 2025-03-24 04:06:50.428000 | {'bio': '', 'avatar': '', 'skills': []}                                            | False      |\n",
      "+--------------------------+----------+-------------------------+-------------+------------+------------+----------------------------+------------------------------------------------------------------------------------+------------+\n",
      "| 6850e9da24ef14dd39507d9e | u1005    | student5@example.com    | Student5    | Jones      | student    | 2025-02-28 04:06:50.428000 | {'bio': '', 'avatar': '', 'skills': []}                                            | False      |\n",
      "+--------------------------+----------+-------------------------+-------------+------------+------------+----------------------------+------------------------------------------------------------------------------------+------------+\n",
      "| 6850e9da24ef14dd39507d9f | u1006    | student6@example.com    | Student6    | Jones      | student    | 2025-05-18 04:06:50.428000 | {'bio': '', 'avatar': '', 'skills': []}                                            | True       |\n",
      "+--------------------------+----------+-------------------------+-------------+------------+------------+----------------------------+------------------------------------------------------------------------------------+------------+\n",
      "| 6850e9da24ef14dd39507da4 | u1011    | student11@example.com   | Student11   | Jones      | student    | 2025-03-30 04:06:50.428000 | {'bio': '', 'avatar': '', 'skills': []}                                            | True       |\n",
      "+--------------------------+----------+-------------------------+-------------+------------+------------+----------------------------+------------------------------------------------------------------------------------+------------+\n",
      "| 6850e9da24ef14dd39507da5 | u1012    | student12@example.com   | Student12   | Jones      | student    | 2025-01-17 04:06:50.428000 | {'bio': '', 'avatar': '', 'skills': []}                                            | True       |\n",
      "+--------------------------+----------+-------------------------+-------------+------------+------------+----------------------------+------------------------------------------------------------------------------------+------------+\n",
      "| 6850e9da24ef14dd39507da6 | u1013    | student13@example.com   | Student13   | Jones      | student    | 2025-05-19 04:06:50.428000 | {'bio': '', 'avatar': '', 'skills': []}                                            | True       |\n",
      "+--------------------------+----------+-------------------------+-------------+------------+------------+----------------------------+------------------------------------------------------------------------------------+------------+\n",
      "| 6850e9da24ef14dd39507da7 | u1014    | student14@example.com   | Student14   | Jones      | student    | 2025-01-08 04:06:50.428000 | {'bio': '', 'avatar': '', 'skills': []}                                            | True       |\n",
      "+--------------------------+----------+-------------------------+-------------+------------+------------+----------------------------+------------------------------------------------------------------------------------+------------+\n",
      "| 6850e9da24ef14dd39507da8 | u1015    | student15@example.com   | Student15   | Jones      | student    | 2025-05-23 04:06:50.428000 | {'bio': '', 'avatar': '', 'skills': []}                                            | False      |\n",
      "+--------------------------+----------+-------------------------+-------------+------------+------------+----------------------------+------------------------------------------------------------------------------------+------------+\n",
      "| 6850e9da24ef14dd39507df0 | u9001    | jane.doe@example.com    | Jane        | Doe        | student    | 2025-06-17 04:06:50.446000 | {'bio': 'QA engineer in training', 'avatar': '', 'skills': ['Selenium', 'pytest']} | False      |\n",
      "+--------------------------+----------+-------------------------+-------------+------------+------------+----------------------------+------------------------------------------------------------------------------------+------------+\n",
      "\n",
      "=== Courses By Tags ===\n",
      "\n",
      "\n",
      "=== Assignments Due Soon ===\n",
      "\n",
      "\n",
      "=== Enrollment Stats By Category ===\n",
      "+--------------------+-------------------+--------------------+\n",
      "|   totalEnrollments |   avgCourseRating | category           |\n",
      "+====================+===================+====================+\n",
      "|                  3 |                 0 | Data Science       |\n",
      "+--------------------+-------------------+--------------------+\n",
      "|                  3 |                 0 | UI/UX Design       |\n",
      "+--------------------+-------------------+--------------------+\n",
      "|                  2 |                 0 | Machine Learning   |\n",
      "+--------------------+-------------------+--------------------+\n",
      "|                  1 |                 0 | Mobile Development |\n",
      "+--------------------+-------------------+--------------------+\n",
      "|                  2 |                 0 | Web Development    |\n",
      "+--------------------+-------------------+--------------------+\n",
      "|                  1 |                 0 | Databases          |\n",
      "+--------------------+-------------------+--------------------+\n",
      "|                  3 |                 0 | Cybersecurity      |\n",
      "+--------------------+-------------------+--------------------+\n",
      "\n",
      "=== Enrollment Counts Per Course ===\n",
      "+--------------------+------------+\n",
      "|   totalEnrollments | courseId   |\n",
      "+====================+============+\n",
      "|                  3 | c3005      |\n",
      "+--------------------+------------+\n",
      "|                  2 | c3003      |\n",
      "+--------------------+------------+\n",
      "|                  3 | c3006      |\n",
      "+--------------------+------------+\n",
      "|                  3 | c3001      |\n",
      "+--------------------+------------+\n",
      "|                  2 | c3002      |\n",
      "+--------------------+------------+\n",
      "|                  1 | c3008      |\n",
      "+--------------------+------------+\n",
      "|                  1 | c3007      |\n",
      "+--------------------+------------+\n",
      "\n",
      "=== Completion Rate By Course ===\n",
      "+------------+------------------+\n",
      "| courseId   |   completionRate |\n",
      "+============+==================+\n",
      "| c3005      |                0 |\n",
      "+------------+------------------+\n",
      "| c3006      |                0 |\n",
      "+------------+------------------+\n",
      "| c3003      |                0 |\n",
      "+------------+------------------+\n",
      "| c3002      |                0 |\n",
      "+------------+------------------+\n",
      "| c3001      |                0 |\n",
      "+------------+------------------+\n",
      "| c3008      |                0 |\n",
      "+------------+------------------+\n",
      "| c3007      |                0 |\n",
      "+------------+------------------+\n",
      "\n",
      "=== Student Performance ===\n",
      "+------------+----------+----------------+\n",
      "|   avgGrade | userId   | topPerformer   |\n",
      "+============+==========+================+\n",
      "|        8   | u1006    | False          |\n",
      "+------------+----------+----------------+\n",
      "|        0   | u1001    | False          |\n",
      "+------------+----------+----------------+\n",
      "|       54.5 | u1007    | False          |\n",
      "+------------+----------+----------------+\n",
      "|       85   | u1004    | True           |\n",
      "+------------+----------+----------------+\n",
      "|       67   | u1012    | False          |\n",
      "+------------+----------+----------------+\n",
      "|       46   | u1015    | False          |\n",
      "+------------+----------+----------------+\n",
      "|       31.5 | u1011    | False          |\n",
      "+------------+----------+----------------+\n",
      "|       84   | u1010    | True           |\n",
      "+------------+----------+----------------+\n",
      "\n",
      "=== Instructor Analytics ===\n",
      "+-------------------+----------------+----------------+---------------+\n",
      "|   avgCourseRating |   totalRevenue | instructorId   |   numStudents |\n",
      "+===================+================+================+===============+\n",
      "|                 0 |         335.4  | u2002          |             3 |\n",
      "+-------------------+----------------+----------------+---------------+\n",
      "|                 0 |         425.28 | u2005          |             5 |\n",
      "+-------------------+----------------+----------------+---------------+\n",
      "|                 0 |         451.23 | u2003          |             5 |\n",
      "+-------------------+----------------+----------------+---------------+\n",
      "\n",
      "=== Monthlyenrollments ===\n",
      "+--------+---------+---------------+\n",
      "|   year |   month |   enrollments |\n",
      "+========+=========+===============+\n",
      "|   2024 |       7 |             2 |\n",
      "+--------+---------+---------------+\n",
      "|   2024 |       8 |             2 |\n",
      "+--------+---------+---------------+\n",
      "|   2024 |       9 |             3 |\n",
      "+--------+---------+---------------+\n",
      "|   2024 |      10 |             1 |\n",
      "+--------+---------+---------------+\n",
      "|   2025 |       3 |             1 |\n",
      "+--------+---------+---------------+\n",
      "|   2025 |       4 |             3 |\n",
      "+--------+---------+---------------+\n",
      "|   2025 |       5 |             3 |\n",
      "+--------+---------+---------------+\n",
      "\n",
      "=== Popularcategories ===\n",
      "+---------------+--------------------+\n",
      "|   enrollments | category           |\n",
      "+===============+====================+\n",
      "|             3 | Cybersecurity      |\n",
      "+---------------+--------------------+\n",
      "|             3 | UI/UX Design       |\n",
      "+---------------+--------------------+\n",
      "|             3 | Data Science       |\n",
      "+---------------+--------------------+\n",
      "|             2 | Web Development    |\n",
      "+---------------+--------------------+\n",
      "|             2 | Machine Learning   |\n",
      "+---------------+--------------------+\n",
      "|             1 | Mobile Development |\n",
      "+---------------+--------------------+\n",
      "|             1 | Databases          |\n",
      "+---------------+--------------------+\n",
      "\n",
      "=== Avgprogress ===\n",
      "+---------------+------------+-------------------------------+\n",
      "|   avgProgress | courseId   | title                         |\n",
      "+===============+============+===============================+\n",
      "|       67.3333 | c3006      | Cybersecurity Essentials      |\n",
      "+---------------+------------+-------------------------------+\n",
      "|       18.5    | c3003      | Machine Learning Essentials   |\n",
      "+---------------+------------+-------------------------------+\n",
      "|       29.3333 | c3005      | UI/UX Design Essentials       |\n",
      "+---------------+------------+-------------------------------+\n",
      "|       90      | c3008      | Databases Essentials          |\n",
      "+---------------+------------+-------------------------------+\n",
      "|       53.3333 | c3001      | Data Science Essentials       |\n",
      "+---------------+------------+-------------------------------+\n",
      "|       26      | c3002      | Web Development Essentials    |\n",
      "+---------------+------------+-------------------------------+\n",
      "|        5      | c3007      | Mobile Development Essentials |\n",
      "+---------------+------------+-------------------------------+\n"
     ]
    },
    {
     "data": {
      "text/markdown": [
       "### Courses By Price\n",
       "\n",
       "| _id                      | courseId   | title                       | description                                 | instructorId   | category         | level        |   duration |   price | tags                               |   rating |   ratingsCount | createdAt                  | updatedAt                  | isPublished   |\n",
       "|:-------------------------|:-----------|:----------------------------|:--------------------------------------------|:---------------|:-----------------|:-------------|-----------:|--------:|:-----------------------------------|---------:|---------------:|:---------------------------|:---------------------------|:--------------|\n",
       "| 6850e9da24ef14dd39507da9 | c3001      | Data Science Essentials     | An introductory course on Data Science.     | u2005          | Data Science     | beginner     |        5.9 |  101.57 | ['Data Science', 'Data']           |        0 |              0 | 2024-10-03 04:06:50.428000 | 2024-10-03 04:06:50.428000 | True          |\n",
       "| 6850e9da24ef14dd39507dab | c3003      | Machine Learning Essentials | An introductory course on Machine Learning. | u2002          | Machine Learning | advanced     |       13.9 |  123.88 | ['Machine Learning', 'Machine']    |        0 |              0 | 2024-08-30 04:06:50.428000 | 2024-08-30 04:06:50.428000 | False         |\n",
       "| 6850e9da24ef14dd39507dac | c3004      | Cloud Computing Essentials  | An introductory course on Cloud Computing.  | u2005          | Cloud Computing  | advanced     |       12.8 |  186.94 | ['Cloud Computing', 'Cloud']       |        0 |              0 | 2024-07-16 04:06:50.428000 | 2024-07-16 04:06:50.428000 | True          |\n",
       "| 6850e9da24ef14dd39507dae | c3006      | Cybersecurity Essentials    | An introductory course on Cybersecurity.    | u2003          | Cybersecurity    | beginner     |        5.1 |  124.23 | ['Cybersecurity', 'Cybersecurity'] |        0 |              0 | 2024-10-26 04:06:50.428000 | 2024-10-26 04:06:50.428000 | True          |\n",
       "| 6850e9da24ef14dd39507db0 | c3008      | Databases Essentials        | An introductory course on Databases.        | u2002          | Databases        | intermediate |        9.3 |   87.64 | ['Databases', 'Databases']         |        0 |              0 | 2025-05-13 04:06:50.428000 | 2025-05-13 04:06:50.428000 | False         |\n"
      ],
      "text/plain": [
       "<IPython.core.display.Markdown object>"
      ]
     },
     "metadata": {},
     "output_type": "display_data"
    },
    {
     "data": {
      "text/markdown": [
       "### Recent Users\n",
       "\n",
       "| _id                      | userId   | email                   | firstName   | lastName   | role       | dateJoined                 | profile                                                                            | isActive   |\n",
       "|:-------------------------|:---------|:------------------------|:------------|:-----------|:-----------|:---------------------------|:-----------------------------------------------------------------------------------|:-----------|\n",
       "| 6850e9da24ef14dd39507d97 | u2003    | instructor3@example.com | Instructor3 | Smith      | instructor | 2025-03-29 04:06:50.428000 | {'bio': 'Expert in subject 3', 'avatar': '', 'skills': ['Teaching', 'Leadership']} | True       |\n",
       "| 6850e9da24ef14dd39507d98 | u2004    | instructor4@example.com | Instructor4 | Smith      | instructor | 2025-04-23 04:06:50.428000 | {'bio': 'Expert in subject 4', 'avatar': '', 'skills': ['Teaching', 'Leadership']} | True       |\n",
       "| 6850e9da24ef14dd39507d9b | u1002    | student2@example.com    | Student2    | Jones      | student    | 2025-05-01 04:06:50.428000 | {'bio': '', 'avatar': '', 'skills': []}                                            | True       |\n",
       "| 6850e9da24ef14dd39507d9c | u1003    | student3@example.com    | Student3    | Jones      | student    | 2025-03-24 04:06:50.428000 | {'bio': '', 'avatar': '', 'skills': []}                                            | False      |\n",
       "| 6850e9da24ef14dd39507d9e | u1005    | student5@example.com    | Student5    | Jones      | student    | 2025-02-28 04:06:50.428000 | {'bio': '', 'avatar': '', 'skills': []}                                            | False      |\n",
       "| 6850e9da24ef14dd39507d9f | u1006    | student6@example.com    | Student6    | Jones      | student    | 2025-05-18 04:06:50.428000 | {'bio': '', 'avatar': '', 'skills': []}                                            | True       |\n",
       "| 6850e9da24ef14dd39507da4 | u1011    | student11@example.com   | Student11   | Jones      | student    | 2025-03-30 04:06:50.428000 | {'bio': '', 'avatar': '', 'skills': []}                                            | True       |\n",
       "| 6850e9da24ef14dd39507da5 | u1012    | student12@example.com   | Student12   | Jones      | student    | 2025-01-17 04:06:50.428000 | {'bio': '', 'avatar': '', 'skills': []}                                            | True       |\n",
       "| 6850e9da24ef14dd39507da6 | u1013    | student13@example.com   | Student13   | Jones      | student    | 2025-05-19 04:06:50.428000 | {'bio': '', 'avatar': '', 'skills': []}                                            | True       |\n",
       "| 6850e9da24ef14dd39507da7 | u1014    | student14@example.com   | Student14   | Jones      | student    | 2025-01-08 04:06:50.428000 | {'bio': '', 'avatar': '', 'skills': []}                                            | True       |\n",
       "| 6850e9da24ef14dd39507da8 | u1015    | student15@example.com   | Student15   | Jones      | student    | 2025-05-23 04:06:50.428000 | {'bio': '', 'avatar': '', 'skills': []}                                            | False      |\n",
       "| 6850e9da24ef14dd39507df0 | u9001    | jane.doe@example.com    | Jane        | Doe        | student    | 2025-06-17 04:06:50.446000 | {'bio': 'QA engineer in training', 'avatar': '', 'skills': ['Selenium', 'pytest']} | False      |\n"
      ],
      "text/plain": [
       "<IPython.core.display.Markdown object>"
      ]
     },
     "metadata": {},
     "output_type": "display_data"
    },
    {
     "data": {
      "text/markdown": [
       "### Courses By Tags\n",
       "\n",
       "\n"
      ],
      "text/plain": [
       "<IPython.core.display.Markdown object>"
      ]
     },
     "metadata": {},
     "output_type": "display_data"
    },
    {
     "data": {
      "text/markdown": [
       "### Assignments Due Soon\n",
       "\n",
       "\n"
      ],
      "text/plain": [
       "<IPython.core.display.Markdown object>"
      ]
     },
     "metadata": {},
     "output_type": "display_data"
    },
    {
     "data": {
      "text/markdown": [
       "### Enrollment Stats By Category\n",
       "\n",
       "|   totalEnrollments |   avgCourseRating | category           |\n",
       "|-------------------:|------------------:|:-------------------|\n",
       "|                  3 |                 0 | Data Science       |\n",
       "|                  3 |                 0 | UI/UX Design       |\n",
       "|                  2 |                 0 | Machine Learning   |\n",
       "|                  1 |                 0 | Mobile Development |\n",
       "|                  2 |                 0 | Web Development    |\n",
       "|                  1 |                 0 | Databases          |\n",
       "|                  3 |                 0 | Cybersecurity      |\n"
      ],
      "text/plain": [
       "<IPython.core.display.Markdown object>"
      ]
     },
     "metadata": {},
     "output_type": "display_data"
    },
    {
     "data": {
      "text/markdown": [
       "### Enrollment Counts Per Course\n",
       "\n",
       "|   totalEnrollments | courseId   |\n",
       "|-------------------:|:-----------|\n",
       "|                  3 | c3005      |\n",
       "|                  2 | c3003      |\n",
       "|                  3 | c3006      |\n",
       "|                  3 | c3001      |\n",
       "|                  2 | c3002      |\n",
       "|                  1 | c3008      |\n",
       "|                  1 | c3007      |\n"
      ],
      "text/plain": [
       "<IPython.core.display.Markdown object>"
      ]
     },
     "metadata": {},
     "output_type": "display_data"
    },
    {
     "data": {
      "text/markdown": [
       "### Completion Rate By Course\n",
       "\n",
       "| courseId   |   completionRate |\n",
       "|:-----------|-----------------:|\n",
       "| c3005      |                0 |\n",
       "| c3006      |                0 |\n",
       "| c3003      |                0 |\n",
       "| c3002      |                0 |\n",
       "| c3001      |                0 |\n",
       "| c3008      |                0 |\n",
       "| c3007      |                0 |\n"
      ],
      "text/plain": [
       "<IPython.core.display.Markdown object>"
      ]
     },
     "metadata": {},
     "output_type": "display_data"
    },
    {
     "data": {
      "text/markdown": [
       "### Student Performance\n",
       "\n",
       "|   avgGrade | userId   | topPerformer   |\n",
       "|-----------:|:---------|:---------------|\n",
       "|        8   | u1006    | False          |\n",
       "|        0   | u1001    | False          |\n",
       "|       54.5 | u1007    | False          |\n",
       "|       85   | u1004    | True           |\n",
       "|       67   | u1012    | False          |\n",
       "|       46   | u1015    | False          |\n",
       "|       31.5 | u1011    | False          |\n",
       "|       84   | u1010    | True           |\n"
      ],
      "text/plain": [
       "<IPython.core.display.Markdown object>"
      ]
     },
     "metadata": {},
     "output_type": "display_data"
    },
    {
     "data": {
      "text/markdown": [
       "### Instructor Analytics\n",
       "\n",
       "|   avgCourseRating |   totalRevenue | instructorId   |   numStudents |\n",
       "|------------------:|---------------:|:---------------|--------------:|\n",
       "|                 0 |         335.4  | u2002          |             3 |\n",
       "|                 0 |         425.28 | u2005          |             5 |\n",
       "|                 0 |         451.23 | u2003          |             5 |\n"
      ],
      "text/plain": [
       "<IPython.core.display.Markdown object>"
      ]
     },
     "metadata": {},
     "output_type": "display_data"
    },
    {
     "data": {
      "text/markdown": [
       "### Monthlyenrollments\n",
       "\n",
       "|   year |   month |   enrollments |\n",
       "|-------:|--------:|--------------:|\n",
       "|   2024 |       7 |             2 |\n",
       "|   2024 |       8 |             2 |\n",
       "|   2024 |       9 |             3 |\n",
       "|   2024 |      10 |             1 |\n",
       "|   2025 |       3 |             1 |\n",
       "|   2025 |       4 |             3 |\n",
       "|   2025 |       5 |             3 |\n"
      ],
      "text/plain": [
       "<IPython.core.display.Markdown object>"
      ]
     },
     "metadata": {},
     "output_type": "display_data"
    },
    {
     "data": {
      "text/markdown": [
       "### Popularcategories\n",
       "\n",
       "|   enrollments | category           |\n",
       "|--------------:|:-------------------|\n",
       "|             3 | Cybersecurity      |\n",
       "|             3 | UI/UX Design       |\n",
       "|             3 | Data Science       |\n",
       "|             2 | Web Development    |\n",
       "|             2 | Machine Learning   |\n",
       "|             1 | Mobile Development |\n",
       "|             1 | Databases          |\n"
      ],
      "text/plain": [
       "<IPython.core.display.Markdown object>"
      ]
     },
     "metadata": {},
     "output_type": "display_data"
    },
    {
     "data": {
      "text/markdown": [
       "### Avgprogress\n",
       "\n",
       "|   avgProgress | courseId   | title                         |\n",
       "|--------------:|:-----------|:------------------------------|\n",
       "|       67.3333 | c3006      | Cybersecurity Essentials      |\n",
       "|       18.5    | c3003      | Machine Learning Essentials   |\n",
       "|       29.3333 | c3005      | UI/UX Design Essentials       |\n",
       "|       90      | c3008      | Databases Essentials          |\n",
       "|       53.3333 | c3001      | Data Science Essentials       |\n",
       "|       26      | c3002      | Web Development Essentials    |\n",
       "|        5      | c3007      | Mobile Development Essentials |\n"
      ],
      "text/plain": [
       "<IPython.core.display.Markdown object>"
      ]
     },
     "metadata": {},
     "output_type": "display_data"
    }
   ],
   "source": [
    "# Configure notebook to show all DataFrames\n",
    "from IPython.core.interactiveshell import InteractiveShell\n",
    "InteractiveShell.ast_node_interactivity = \"all\"\n",
    "\n",
    "# Run our updated Part 4 aggregation module\n",
    "import part4_aggregation as part4_aggregation\n",
    "tables = part4_aggregation.main()\n",
    "\n",
    "# Render each DataFrame as a clean Markdown table\n",
    "from IPython.display import Markdown, display\n",
    "for name, df in tables.items():\n",
    "    display(Markdown(f\"### {name.replace('_', ' ').title()}\\n\\n{df.to_markdown(index=False)}\\n\"))\n"
   ]
  },
  {
   "cell_type": "markdown",
   "id": "89bfb8b8",
   "metadata": {},
   "source": [
    "# Part 5: Indexing & Performance\n",
    "\n",
    "In this section we optimize our MongoDB queries by:\n",
    "\n",
    "- **Task 5.1: Index Creation**  \n",
    "  - `users.email`  \n",
    "  - `courses.title`, `courses.category`  \n",
    "  - `assignments.dueDate`  \n",
    "  - `enrollments.userId`, `enrollments.courseId`  \n",
    "\n",
    "- **Task 5.2: Query Optimization**  \n",
    "  - Analyze query performance using explain() method in PyMongo\n",
    "  - Optimize at least 3 slow queries\n",
    "  - Document the performance improvements using Python timing functions\n",
    "\n"
   ]
  },
  {
   "cell_type": "code",
   "execution_count": 9,
   "id": "0747416b",
   "metadata": {},
   "outputs": [
    {
     "name": "stdout",
     "output_type": "stream",
     "text": [
      "[ERROR] Explain failed: Explain cannot explain itself., full error: {'ok': 0.0, 'errmsg': 'Explain cannot explain itself.', 'code': 20, 'codeName': 'IllegalOperation'}\n",
      "[ERROR] Explain failed: Explain cannot explain itself., full error: {'ok': 0.0, 'errmsg': 'Explain cannot explain itself.', 'code': 20, 'codeName': 'IllegalOperation'}\n",
      "[ERROR] Explain failed: Explain cannot explain itself., full error: {'ok': 0.0, 'errmsg': 'Explain cannot explain itself.', 'code': 20, 'codeName': 'IllegalOperation'}\n",
      "[ERROR] Could not create index on users: Index already exists with a different name: uix_users_email, full error: {'ok': 0.0, 'errmsg': 'Index already exists with a different name: uix_users_email', 'code': 85, 'codeName': 'IndexOptionsConflict'}\n",
      "[OK] Created index courses.idx_courses_title\n",
      "[OK] Created index courses.idx_courses_category\n",
      "[OK] Created index assignments.idx_assignments_dueDate\n",
      "[OK] Created index enrollments.idx_enrollments_userId\n",
      "[OK] Created index enrollments.idx_enrollments_courseId\n",
      "[ERROR] Explain failed: Explain cannot explain itself., full error: {'ok': 0.0, 'errmsg': 'Explain cannot explain itself.', 'code': 20, 'codeName': 'IllegalOperation'}\n",
      "[ERROR] Explain failed: Explain cannot explain itself., full error: {'ok': 0.0, 'errmsg': 'Explain cannot explain itself.', 'code': 20, 'codeName': 'IllegalOperation'}\n",
      "[ERROR] Explain failed: Explain cannot explain itself., full error: {'ok': 0.0, 'errmsg': 'Explain cannot explain itself.', 'code': 20, 'codeName': 'IllegalOperation'}\n"
     ]
    },
    {
     "data": {
      "text/markdown": [
       "### Indexing & Query Performance Summary\n",
       "\n",
       "| Query                | Index                   | Server Before (ms)   |   Client Before (ms) | Server After (ms)   |   Client After (ms) | Server Improvement (%)   |   Client Improvement (%) |\n",
       "|:---------------------|:------------------------|:---------------------|---------------------:|:--------------------|--------------------:|:-------------------------|-------------------------:|\n",
       "| Courses by Category  | idx_courses_category    |                      |                  1   |                     |                 0.5 |                          |                     50   |\n",
       "| Enrollments by User  | idx_enrollments_userId  |                      |                  1.2 |                     |                 0.5 |                          |                     58.3 |\n",
       "| Assignments Due Soon | idx_assignments_dueDate |                      |                  0.4 |                     |                 0.8 |                          |                   -100   |"
      ],
      "text/plain": [
       "<IPython.core.display.Markdown object>"
      ]
     },
     "metadata": {},
     "output_type": "display_data"
    }
   ],
   "source": [
    "\n",
    "\n",
    "# Configure notebook to display all outputs\n",
    "from IPython.core.interactiveshell import InteractiveShell\n",
    "InteractiveShell.ast_node_interactivity = \"all\"\n",
    "\n",
    "from IPython.display import Markdown, display\n",
    "import part5_performance as part5_performance\n",
    "\n",
    "# Run profiling and retrieve summary DataFrame\n",
    "summary_df = part5_performance.main()\n",
    "\n",
    "# Render the summary as a clean Markdown table\n",
    "display(Markdown(\n",
    "    \"### Indexing & Query Performance Summary\\n\\n\" +\n",
    "    summary_df.to_markdown(index=False)\n",
    "))\n"
   ]
  },
  {
   "cell_type": "markdown",
   "id": "1b468066",
   "metadata": {},
   "source": [
    "# Part 6: Data Validation & Error Handling\n",
    " \n",
    "In this final section verifys that our JSON Schema validators (from Part 1) and error-handling routines correctly enforce data integrity and catch invalid operations.\n",
    "\n",
    "**Tasks Covered**  \n",
    "- **Task 6.1: Schema Validation**  \n",
    "  - Required fields  \n",
    "  - Data type checks  \n",
    "  - Enum restrictions  \n",
    "  - Email format via regex  \n",
    "- **Task 6.2: Error Handling**  \n",
    "  - Duplicate key errors  \n",
    "  - Missing required fields  \n",
    "  - Invalid data types  \n",
    "  - Invalid enum values  \n",
    "  - Invalid email formats  \n",
    "\n",
    "Below we run a series of tests that intentionally violate each rule. The table that follows shows, for each test, the exact error message produced by MongoDB and caught in our Python code—proving that only schema-compliant data can be inserted into the database.\n",
    "\n",
    "### Validation & Error Handling Results\n",
    "\n",
    "| Test                    | Result                                                                     |\n",
    "|-------------------------|----------------------------------------------------------------------------|\n",
    "| Duplicate Key           | DuplicateKeyError caught: E11000 duplicate key error collection: eduhub_db.users index: _id_ dup key: { _id: … } |\n",
    "| Missing Required Field  | WriteError caught (missing field): Document failed validation               |\n",
    "| Invalid Data Type       | WriteError caught (invalid type): Document failed validation                |\n",
    "| Invalid Enum Value      | WriteError caught (invalid enum): Document failed validation                |\n",
    "| Invalid Email Format    | WriteError caught (invalid email): Document failed validation               |\n"
   ]
  },
  {
   "cell_type": "code",
   "execution_count": 8,
   "id": "afac2c76",
   "metadata": {},
   "outputs": [
    {
     "name": "stdout",
     "output_type": "stream",
     "text": [
      "[OK] Collections created with JSON Schema validation.\n"
     ]
    },
    {
     "data": {
      "text/markdown": [
       "### Validation & Error Handling Results\n",
       "\n",
       "| Test                   | Result                                                                                                                                              |\n",
       "|:-----------------------|:----------------------------------------------------------------------------------------------------------------------------------------------------|\n",
       "| Duplicate Key          | DuplicateKeyError caught: E11000 duplicate key error collection: eduhub_db.users index: _id_ dup key: { _id: ObjectId('6850e9ed24ef14dd39507df7') } |\n",
       "| Missing Required Field | WriteError caught (missing field): Document failed validation                                                                                       |\n",
       "| Invalid Data Type      | WriteError caught (invalid type): Document failed validation                                                                                        |\n",
       "| Invalid Enum Value     | WriteError caught (invalid enum): Document failed validation                                                                                        |\n",
       "| Invalid Email Format   | WriteError caught (invalid email): Document failed validation                                                                                       |"
      ],
      "text/plain": [
       "<IPython.core.display.Markdown object>"
      ]
     },
     "metadata": {},
     "output_type": "display_data"
    }
   ],
   "source": [
    "# Part 6: Data Validation & Error Handling\n",
    "\n",
    "from IPython.core.interactiveshell import InteractiveShell\n",
    "InteractiveShell.ast_node_interactivity = \"all\"\n",
    "\n",
    "\n",
    "from IPython.display import Markdown, display\n",
    "import pandas as pd\n",
    "import part6_validation as part6_validation\n",
    "\n",
    "#  Runs the tests and collect results\n",
    "results = part6_validation.main()\n",
    "\n",
    "#  Builds a DataFrame for display\n",
    "df = pd.DataFrame(\n",
    "    list(results.items()),\n",
    "    columns=[\"Test\", \"Result\"]\n",
    ")\n",
    "\n",
    "#  Renders as a Markdown-style table\n",
    "display(Markdown(\n",
    "    \"### Validation & Error Handling Results\\n\\n\" +\n",
    "    df.to_markdown(index=False)\n",
    "))\n"
   ]
  }
 ],
 "metadata": {
  "kernelspec": {
   "display_name": "EduHub MongoDB",
   "language": "python",
   "name": "eduhub_env"
  },
  "language_info": {
   "codemirror_mode": {
    "name": "ipython",
    "version": 3
   },
   "file_extension": ".py",
   "mimetype": "text/x-python",
   "name": "python",
   "nbconvert_exporter": "python",
   "pygments_lexer": "ipython3",
   "version": "3.12.7"
  }
 },
 "nbformat": 4,
 "nbformat_minor": 5
}
